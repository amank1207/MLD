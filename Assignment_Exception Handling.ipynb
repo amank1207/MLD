{
 "cells": [
  {
   "cell_type": "markdown",
   "metadata": {},
   "source": [
    "## Problem Solution 1 :\n",
    "Write a function to compute 5/0 and use try/except to catch the exceptions."
   ]
  },
  {
   "cell_type": "code",
   "execution_count": 1,
   "metadata": {},
   "outputs": [
    {
     "name": "stdout",
     "output_type": "stream",
     "text": [
      "The mentioned arithmetic operation cannot be executed, as the denominator should never be zero.\n"
     ]
    }
   ],
   "source": [
    "def calculate():\n",
    "    try:\n",
    "        5/0\n",
    "    except:\n",
    "        print(\"The mentioned arithmetic operation cannot be executed, as the denominator should never be zero.\")\n",
    "\n",
    "calculate()"
   ]
  },
  {
   "cell_type": "markdown",
   "metadata": {},
   "source": [
    "## Problem Solution 2 :\n",
    "Implement a Python program to generate all sentences where subject is in [\"Americans\", \"Indians\"] and verb is in [\"Play\", \"watch\"] and the object is in [\"Baseball\",\"cricket\"].\n",
    "\n",
    "Hint: Subject,Verb and Object should be declared in the program as shown below.\n",
    "\n",
    "subjects=[\"Americans \",\"Indians\"]\n",
    "verbs=[\"play\",\"watch\"]\n",
    "objects=[\"Baseball\",\"Cricket\"]"
   ]
  },
  {
   "cell_type": "code",
   "execution_count": 2,
   "metadata": {},
   "outputs": [
    {
     "name": "stdout",
     "output_type": "stream",
     "text": [
      "Enter the list of subjects : \n",
      "Americans,Indians,Australians\n",
      "Enter the list of verbs : \n",
      "play,watch\n",
      "Enter the list of objects : \n",
      "Baseball,Cricket,Hockey\n",
      "\n",
      "\n",
      "Sentance generation using subjects, verbs & objects inputs are :\n",
      "Americans play Baseball.\n",
      "Americans play Cricket.\n",
      "Americans play Hockey.\n",
      "Americans watch Baseball.\n",
      "Americans watch Cricket.\n",
      "Americans watch Hockey.\n",
      "Indians play Baseball.\n",
      "Indians play Cricket.\n",
      "Indians play Hockey.\n",
      "Indians watch Baseball.\n",
      "Indians watch Cricket.\n",
      "Indians watch Hockey.\n",
      "Australians play Baseball.\n",
      "Australians play Cricket.\n",
      "Australians play Hockey.\n",
      "Australians watch Baseball.\n",
      "Australians watch Cricket.\n",
      "Australians watch Hockey.\n"
     ]
    }
   ],
   "source": [
    "def genSentance(subjects,verbs,objects):\n",
    "    for i in subjects:\n",
    "        for j in verbs:\n",
    "            for k in objects:\n",
    "                print(i+\" \"+j+\" \"+k+\".\")\n",
    "            \n",
    "print(\"Enter the list of subjects : \")\n",
    "subjects1=list(input().split(','))\n",
    "print(\"Enter the list of verbs : \")\n",
    "verbs1=list(input().split(','))\n",
    "print(\"Enter the list of objects : \")\n",
    "objects1=list(input().split(','))\n",
    "print(\"\\n\")\n",
    "print(\"Sentance generation using subjects, verbs & objects inputs are :\")\n",
    "genSentance(subjects1,verbs1,objects1)\n",
    "                "
   ]
  },
  {
   "cell_type": "code",
   "execution_count": null,
   "metadata": {},
   "outputs": [],
   "source": []
  }
 ],
 "metadata": {
  "kernelspec": {
   "display_name": "Python 3",
   "language": "python",
   "name": "python3"
  },
  "language_info": {
   "codemirror_mode": {
    "name": "ipython",
    "version": 3
   },
   "file_extension": ".py",
   "mimetype": "text/x-python",
   "name": "python",
   "nbconvert_exporter": "python",
   "pygments_lexer": "ipython3",
   "version": "3.7.6"
  }
 },
 "nbformat": 4,
 "nbformat_minor": 4
}
